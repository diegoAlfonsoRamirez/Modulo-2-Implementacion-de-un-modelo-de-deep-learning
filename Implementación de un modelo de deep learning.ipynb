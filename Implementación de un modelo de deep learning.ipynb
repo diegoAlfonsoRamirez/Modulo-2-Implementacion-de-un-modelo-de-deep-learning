{
 "cells": [
  {
   "cell_type": "code",
   "execution_count": 43,
   "metadata": {},
   "outputs": [],
   "source": [
    "import numpy as np\n",
    "import pandas as pd\n",
    "from sklearn.model_selection import train_test_split\n",
    "from tensorflow.keras.preprocessing.text import Tokenizer\n",
    "from tensorflow.keras.preprocessing.sequence import pad_sequences\n",
    "from tensorflow.keras.models import Sequential\n",
    "from tensorflow.keras.layers import Embedding, LSTM, Dense, Dropout\n",
    "from gensim.models import KeyedVectors"
   ]
  },
  {
   "cell_type": "code",
   "execution_count": 2,
   "metadata": {},
   "outputs": [],
   "source": [
    "df = pd.read_json(\"/Users/ramir/Desktop/Carpeta/Nueva_carpeta/Programas/Laboratorios_IA/Lab_1/complaints.json\")"
   ]
  },
  {
   "cell_type": "code",
   "execution_count": 3,
   "metadata": {},
   "outputs": [],
   "source": [
    "df = df[['complaint_what_happened', 'product', 'company', 'state', 'consumer_disputed',]].dropna()\n",
    "df = df[df['consumer_disputed'] != 'N/A']\n",
    "df = df[df['complaint_what_happened'] != '']"
   ]
  },
  {
   "cell_type": "code",
   "execution_count": 7,
   "metadata": {},
   "outputs": [
    {
     "name": "stderr",
     "output_type": "stream",
     "text": [
      "C:\\Users\\ramir\\AppData\\Local\\Temp\\ipykernel_12932\\1485403451.py:2: FutureWarning: The frame.append method is deprecated and will be removed from pandas in a future version. Use pandas.concat instead.\n",
      "  df_temporal = df_temporal.append(df[df['consumer_disputed'] == 'No'].iloc[:35807], ignore_index=True)\n",
      "C:\\Users\\ramir\\AppData\\Local\\Temp\\ipykernel_12932\\1485403451.py:3: FutureWarning: The frame.append method is deprecated and will be removed from pandas in a future version. Use pandas.concat instead.\n",
      "  df = df_temporal.append(df[df['consumer_disputed'] == 'Yes'], ignore_index=True)\n"
     ]
    },
    {
     "data": {
      "text/html": [
       "<div>\n",
       "<style scoped>\n",
       "    .dataframe tbody tr th:only-of-type {\n",
       "        vertical-align: middle;\n",
       "    }\n",
       "\n",
       "    .dataframe tbody tr th {\n",
       "        vertical-align: top;\n",
       "    }\n",
       "\n",
       "    .dataframe thead th {\n",
       "        text-align: right;\n",
       "    }\n",
       "</style>\n",
       "<table border=\"1\" class=\"dataframe\">\n",
       "  <thead>\n",
       "    <tr style=\"text-align: right;\">\n",
       "      <th></th>\n",
       "      <th>complaint_what_happened</th>\n",
       "      <th>product</th>\n",
       "      <th>company</th>\n",
       "      <th>state</th>\n",
       "      <th>consumer_disputed</th>\n",
       "    </tr>\n",
       "  </thead>\n",
       "  <tbody>\n",
       "    <tr>\n",
       "      <th>0</th>\n",
       "      <td>Denied sufficient time to complete a ( short s...</td>\n",
       "      <td>Mortgage</td>\n",
       "      <td>NATIONSTAR MORTGAGE LLC</td>\n",
       "      <td>TN</td>\n",
       "      <td>No</td>\n",
       "    </tr>\n",
       "    <tr>\n",
       "      <th>1</th>\n",
       "      <td>Nationstar Mortgage withheld money from my mon...</td>\n",
       "      <td>Mortgage</td>\n",
       "      <td>NATIONSTAR MORTGAGE LLC</td>\n",
       "      <td>GA</td>\n",
       "      <td>No</td>\n",
       "    </tr>\n",
       "    <tr>\n",
       "      <th>2</th>\n",
       "      <td>My client is XXXX XXXX and I have been working...</td>\n",
       "      <td>Mortgage</td>\n",
       "      <td>NATIONSTAR MORTGAGE LLC</td>\n",
       "      <td>MD</td>\n",
       "      <td>No</td>\n",
       "    </tr>\n",
       "    <tr>\n",
       "      <th>3</th>\n",
       "      <td>My original note was owned by XXXX Bank and I ...</td>\n",
       "      <td>Mortgage</td>\n",
       "      <td>NATIONSTAR MORTGAGE LLC</td>\n",
       "      <td>CA</td>\n",
       "      <td>No</td>\n",
       "    </tr>\n",
       "    <tr>\n",
       "      <th>4</th>\n",
       "      <td>My mortgage was bought by Nationstar Mortgage ...</td>\n",
       "      <td>Mortgage</td>\n",
       "      <td>NATIONSTAR MORTGAGE LLC</td>\n",
       "      <td>NY</td>\n",
       "      <td>No</td>\n",
       "    </tr>\n",
       "    <tr>\n",
       "      <th>...</th>\n",
       "      <td>...</td>\n",
       "      <td>...</td>\n",
       "      <td>...</td>\n",
       "      <td>...</td>\n",
       "      <td>...</td>\n",
       "    </tr>\n",
       "    <tr>\n",
       "      <th>71609</th>\n",
       "      <td>On, XXXX/XXXX/2015 I received a phone call fro...</td>\n",
       "      <td>Consumer Loan</td>\n",
       "      <td>Western-Shamrock Corporation</td>\n",
       "      <td>AL</td>\n",
       "      <td>Yes</td>\n",
       "    </tr>\n",
       "    <tr>\n",
       "      <th>71610</th>\n",
       "      <td>I graduated from XXXX in XX/XX/XXXX. I did not...</td>\n",
       "      <td>Student loan</td>\n",
       "      <td>DISCOVER BANK</td>\n",
       "      <td>AZ</td>\n",
       "      <td>Yes</td>\n",
       "    </tr>\n",
       "    <tr>\n",
       "      <th>71611</th>\n",
       "      <td>i am behind on my mortgage and was dealing wit...</td>\n",
       "      <td>Mortgage</td>\n",
       "      <td>RUSHMORE LOAN MANAGEMENT SERVICES LLC</td>\n",
       "      <td>NY</td>\n",
       "      <td>Yes</td>\n",
       "    </tr>\n",
       "    <tr>\n",
       "      <th>71612</th>\n",
       "      <td>I opened a checking account in XX/XX/XXXX with...</td>\n",
       "      <td>Bank account or service</td>\n",
       "      <td>CITIBANK, N.A.</td>\n",
       "      <td>IL</td>\n",
       "      <td>Yes</td>\n",
       "    </tr>\n",
       "    <tr>\n",
       "      <th>71613</th>\n",
       "      <td>First Pay Pal Credit has no idea what they are...</td>\n",
       "      <td>Credit card</td>\n",
       "      <td>Paypal Holdings, Inc</td>\n",
       "      <td>AL</td>\n",
       "      <td>Yes</td>\n",
       "    </tr>\n",
       "  </tbody>\n",
       "</table>\n",
       "<p>71614 rows × 5 columns</p>\n",
       "</div>"
      ],
      "text/plain": [
       "                                 complaint_what_happened  \\\n",
       "0      Denied sufficient time to complete a ( short s...   \n",
       "1      Nationstar Mortgage withheld money from my mon...   \n",
       "2      My client is XXXX XXXX and I have been working...   \n",
       "3      My original note was owned by XXXX Bank and I ...   \n",
       "4      My mortgage was bought by Nationstar Mortgage ...   \n",
       "...                                                  ...   \n",
       "71609  On, XXXX/XXXX/2015 I received a phone call fro...   \n",
       "71610  I graduated from XXXX in XX/XX/XXXX. I did not...   \n",
       "71611  i am behind on my mortgage and was dealing wit...   \n",
       "71612  I opened a checking account in XX/XX/XXXX with...   \n",
       "71613  First Pay Pal Credit has no idea what they are...   \n",
       "\n",
       "                       product                                company state  \\\n",
       "0                     Mortgage                NATIONSTAR MORTGAGE LLC    TN   \n",
       "1                     Mortgage                NATIONSTAR MORTGAGE LLC    GA   \n",
       "2                     Mortgage                NATIONSTAR MORTGAGE LLC    MD   \n",
       "3                     Mortgage                NATIONSTAR MORTGAGE LLC    CA   \n",
       "4                     Mortgage                NATIONSTAR MORTGAGE LLC    NY   \n",
       "...                        ...                                    ...   ...   \n",
       "71609            Consumer Loan           Western-Shamrock Corporation    AL   \n",
       "71610             Student loan                          DISCOVER BANK    AZ   \n",
       "71611                 Mortgage  RUSHMORE LOAN MANAGEMENT SERVICES LLC    NY   \n",
       "71612  Bank account or service                         CITIBANK, N.A.    IL   \n",
       "71613              Credit card                   Paypal Holdings, Inc    AL   \n",
       "\n",
       "      consumer_disputed  \n",
       "0                    No  \n",
       "1                    No  \n",
       "2                    No  \n",
       "3                    No  \n",
       "4                    No  \n",
       "...                 ...  \n",
       "71609               Yes  \n",
       "71610               Yes  \n",
       "71611               Yes  \n",
       "71612               Yes  \n",
       "71613               Yes  \n",
       "\n",
       "[71614 rows x 5 columns]"
      ]
     },
     "execution_count": 7,
     "metadata": {},
     "output_type": "execute_result"
    }
   ],
   "source": [
    "df_temporal = pd.DataFrame()\n",
    "df_temporal = df_temporal.append(df[df['consumer_disputed'] == 'No'].iloc[:35807], ignore_index=True)\n",
    "df = df_temporal.append(df[df['consumer_disputed'] == 'Yes'], ignore_index=True)\n",
    "df"
   ]
  },
  {
   "cell_type": "code",
   "execution_count": 38,
   "metadata": {},
   "outputs": [],
   "source": [
    "# Preprocess the text data\n",
    "texts = df['complaint_what_happened'].values\n",
    "labels = df['consumer_disputed'].map({'Yes': 1, 'No': 0}).values"
   ]
  },
  {
   "cell_type": "code",
   "execution_count": 39,
   "metadata": {},
   "outputs": [],
   "source": [
    "# Split into trainning and test sets\n",
    "X_train, X_test, y_train, y_test = train_test_split(texts, labels, test_size=0.2, random_state=42)"
   ]
  },
  {
   "cell_type": "code",
   "execution_count": 40,
   "metadata": {},
   "outputs": [],
   "source": [
    "# Tokenize the data\n",
    "max_words = 23300\n",
    "max_len = 400\n",
    "\n",
    "tokenizer = Tokenizer(num_words=max_words)\n",
    "tokenizer.fit_on_texts(X_train)\n",
    "\n",
    "X_train_seq = tokenizer.texts_to_sequences(X_train)\n",
    "X_test_seq = tokenizer.texts_to_sequences(X_test)\n",
    "\n",
    "X_train_pad = pad_sequences(X_train_seq, maxlen=max_len)\n",
    "X_test_pad = pad_sequences(X_test_seq, maxlen=max_len)"
   ]
  },
  {
   "cell_type": "code",
   "execution_count": 79,
   "metadata": {},
   "outputs": [],
   "source": [
    "import pickle\n",
    "\n",
    "# Save the Tokenizer to a file\n",
    "with open('tokenizer.pickle', 'wb') as handle:\n",
    "    pickle.dump(tokenizer, handle, protocol=pickle.HIGHEST_PROTOCOL)"
   ]
  },
  {
   "cell_type": "code",
   "execution_count": 44,
   "metadata": {},
   "outputs": [],
   "source": [
    "from gensim.models import KeyedVectors\n",
    "\n",
    "# Loading the pre-trained Word2Vec model (Google's Word2Vec model)\n",
    "word2vec_model = KeyedVectors.load_word2vec_format('Google_word2vec.bin', binary=True)\n",
    "\n",
    "embedding_matrix = np.zeros((max_words, word2vec_model.vector_size))\n",
    "\n",
    "for word, i in tokenizer.word_index.items():\n",
    "    if i < max_words and word in word2vec_model:\n",
    "        embedding_matrix[i] = word2vec_model[word]"
   ]
  },
  {
   "cell_type": "code",
   "execution_count": 45,
   "metadata": {},
   "outputs": [],
   "source": [
    "# Define the model to use\n",
    "model = Sequential()\n",
    "model.add(Embedding(max_words, word2vec_model.vector_size, weights=[embedding_matrix], input_length=max_len, trainable=False))\n",
    "model.add(LSTM(128))\n",
    "model.add(Dropout(0.2))\n",
    "model.add(Dense(1, activation='sigmoid'))\n",
    "\n",
    "model.compile(optimizer='adam', loss='binary_crossentropy', metrics=['accuracy'])"
   ]
  },
  {
   "cell_type": "code",
   "execution_count": 46,
   "metadata": {},
   "outputs": [
    {
     "name": "stdout",
     "output_type": "stream",
     "text": [
      "Epoch 1/10\n",
      "1791/1791 [==============================] - 784s 436ms/step - loss: 0.6895 - accuracy: 0.5376 - val_loss: 0.6896 - val_accuracy: 0.5351\n",
      "Epoch 2/10\n",
      "1791/1791 [==============================] - 772s 431ms/step - loss: 0.6760 - accuracy: 0.5787 - val_loss: 0.6743 - val_accuracy: 0.5878\n",
      "Epoch 3/10\n",
      "1791/1791 [==============================] - 809s 452ms/step - loss: 0.6655 - accuracy: 0.5994 - val_loss: 0.6732 - val_accuracy: 0.5771\n",
      "Epoch 4/10\n",
      "1791/1791 [==============================] - 939s 524ms/step - loss: 0.6620 - accuracy: 0.6012 - val_loss: 0.6714 - val_accuracy: 0.5933\n",
      "Epoch 5/10\n",
      "1791/1791 [==============================] - 2352s 1s/step - loss: 0.6580 - accuracy: 0.6100 - val_loss: 0.6694 - val_accuracy: 0.5925\n",
      "Epoch 6/10\n",
      "1791/1791 [==============================] - 751s 419ms/step - loss: 0.6499 - accuracy: 0.6201 - val_loss: 0.6709 - val_accuracy: 0.5891\n",
      "Epoch 7/10\n",
      "1791/1791 [==============================] - 765s 427ms/step - loss: 0.6422 - accuracy: 0.6288 - val_loss: 0.6723 - val_accuracy: 0.5956\n",
      "Epoch 8/10\n",
      "1791/1791 [==============================] - 829s 463ms/step - loss: 0.6306 - accuracy: 0.6409 - val_loss: 0.6780 - val_accuracy: 0.5944\n",
      "Epoch 9/10\n",
      "1791/1791 [==============================] - 996s 556ms/step - loss: 0.6136 - accuracy: 0.6568 - val_loss: 0.7009 - val_accuracy: 0.5916\n",
      "Epoch 10/10\n",
      "1791/1791 [==============================] - 1028s 574ms/step - loss: 0.5909 - accuracy: 0.6776 - val_loss: 0.7049 - val_accuracy: 0.5831\n"
     ]
    },
    {
     "data": {
      "text/plain": [
       "<keras.src.callbacks.History at 0x2652d999de0>"
      ]
     },
     "execution_count": 46,
     "metadata": {},
     "output_type": "execute_result"
    }
   ],
   "source": [
    "# Traine the model\n",
    "model.fit(X_train_pad, y_train, batch_size=32, epochs=10, validation_data=(X_test_pad, y_test))"
   ]
  },
  {
   "cell_type": "code",
   "execution_count": 47,
   "metadata": {},
   "outputs": [
    {
     "name": "stdout",
     "output_type": "stream",
     "text": [
      "448/448 [==============================] - 150s 334ms/step - loss: 0.7049 - accuracy: 0.5831\n",
      "Test loss: 0.7048846483230591\n",
      "Test accuracy: 0.5831180810928345\n"
     ]
    }
   ],
   "source": [
    "# Test the model accuracy\n",
    "score = model.evaluate(X_test_pad, y_test)\n",
    "print(f'Test loss: {score[0]}')\n",
    "print(f'Test accuracy: {score[1]}')"
   ]
  },
  {
   "cell_type": "code",
   "execution_count": 76,
   "metadata": {},
   "outputs": [],
   "source": [
    "model_json = model.to_json()\n",
    "with open('model.json', 'w') as json_file:\n",
    "    json_file.write(model_json)"
   ]
  }
 ],
 "metadata": {
  "kernelspec": {
   "display_name": "base",
   "language": "python",
   "name": "python3"
  },
  "language_info": {
   "codemirror_mode": {
    "name": "ipython",
    "version": 3
   },
   "file_extension": ".py",
   "mimetype": "text/x-python",
   "name": "python",
   "nbconvert_exporter": "python",
   "pygments_lexer": "ipython3",
   "version": "3.10.9"
  }
 },
 "nbformat": 4,
 "nbformat_minor": 2
}
